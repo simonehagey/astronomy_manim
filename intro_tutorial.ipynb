{
 "cells": [
  {
   "cell_type": "markdown",
   "source": [
    "# Introduction to Manim"
   ],
   "metadata": {
    "collapsed": false
   }
  },
  {
   "cell_type": "markdown",
   "source": [
    "At its core, Manim is a Python library that implements the capabilities of [FFmpeg](https://ffmpeg.org/) and\n",
    "[OpenGL](https://www.opengl.org/). Manim can be used to make incredible animations, as evident in my favourite 3Blue1Brown\n",
    "video on Fourier Transforms ([link](https://www.youtube.com/watch?v=spUNpyF58BY&t=627s)]. The library is large and complex,\n",
    "so we will only cover the basics, here."
   ],
   "metadata": {
    "collapsed": false
   }
  },
  {
   "cell_type": "markdown",
   "source": [
    "First, we need to import the capabilities of Manim. We will also set the maximum display width for videos to improve\n",
    "their appearance in this notebook."
   ],
   "metadata": {
    "collapsed": false
   }
  },
  {
   "cell_type": "code",
   "execution_count": null,
   "outputs": [],
   "source": [
    "from manim import *\n",
    "\n",
    "config.media_width = \"75%\""
   ],
   "metadata": {
    "collapsed": false,
    "pycharm": {
     "name": "#%%\n"
    }
   }
  },
  {
   "cell_type": "markdown",
   "source": [
    "You should now see a printed message with the installed version of the Manim library."
   ],
   "metadata": {
    "collapsed": false
   }
  },
  {
   "cell_type": "markdown",
   "source": [
    "## The Scene class\n",
    "\n",
    "The `Scene` class is the basis for all Manim animations. To create an animation, you must define a Python class that\n",
    "inherits `Scene` and implement a method called `construct`. The `construct` method is where you tell Manim what to do,\n",
    "but you will see that we can also write other methods that can be called within `construct`."
   ],
   "metadata": {
    "collapsed": false
   }
  },
  {
   "cell_type": "markdown",
   "source": [
    "Let's start with a simple animation of some text. The first step is to define a `Text` object with the desired string.\n",
    "The `self.play()` function animates the text by calling the `Write` animation, and `self.wait()` pauses it for a moment."
   ],
   "metadata": {
    "collapsed": false
   }
  },
  {
   "cell_type": "code",
   "execution_count": null,
   "outputs": [],
   "source": [
    "%%manim -qm HelloWorld\n",
    "class HelloWorld(Scene):\n",
    "    def construct(self):\n",
    "        text = Text(\"Hello, astronomy people!\")\n",
    "        self.play(Write(text))\n",
    "        self.wait()"
   ],
   "metadata": {
    "collapsed": false,
    "pycharm": {
     "name": "#%%\n"
    }
   }
  },
  {
   "cell_type": "markdown",
   "source": [
    "To create the video we use the `-pqm` command, where:\n",
    "\n",
    "-`p` is the preview flag, telling Manim that we want to immediately view the result and\n",
    "-`qm` sets the quality to medium (others being low, high and 4k),"
   ],
   "metadata": {
    "collapsed": false
   }
  },
  {
   "cell_type": "markdown",
   "source": [
    "We can do a lot of different things to this `Text` object. We can move it around, make it go away, or even transform it\n",
    "into a different text string! This time, we will define a `MathTex` equation and learn how to move it around the screen."
   ],
   "metadata": {
    "collapsed": false
   }
  },
  {
   "cell_type": "code",
   "execution_count": null,
   "outputs": [],
   "source": [
    "%%manim -qm EquationMagic\n",
    "class EquationMagic(Scene):\n",
    "    def construct(self):\n",
    "        text = Text(\"Hello, astronomy people!\")\n",
    "        self.play(Write(text))\n",
    "        self.wait()\n",
    "\n",
    "        equation = MathTex(r'H^2=H_0^2\\left(\\frac{\\Omega_m}{a^3}+\\frac{\\Omega_r}{a^4}'\n",
    "                           r'+\\frac{\\Omega_k}{a^2}+\\Omega_{\\Lambda}\\right)')\n",
    "\n",
    "        self.play(ReplacementTransform(text, equation))\n",
    "        self.wait()\n",
    "        self.play()\n",
    "        self.wait()\n",
    "\n",
    "        self.play(equation.animate.shift(LEFT))\n",
    "        self.play(equation.animate.shift(RIGHT))\n",
    "        self.play(equation.animate.shift(UP))\n",
    "        self.play(equation.animate.shift(DOWN))\n",
    "        self.wait()\n",
    "\n",
    "        self.play(equation.animate.shift(3*UP))\n",
    "        self.play(equation.animate.shift(8*DOWN))\n",
    "        self.play(equation.animate.shift(5*UP))\n",
    "        self.play(equation.animate.shift(7*LEFT))\n",
    "        self.play(equation.animate.shift(7*RIGHT))\n",
    "        self.wait()"
   ],
   "metadata": {
    "collapsed": false,
    "pycharm": {
     "name": "#%%\n"
    }
   }
  },
  {
   "cell_type": "markdown",
   "source": [
    "Notice that we told the equation to move around with the `LEFT`, `RIGHT`, `UP`, and `DOWN` directions. For the last part\n",
    "of the animation we moved the equation in incremental steps. The defualt Manim scene is a 8 x 14 grid.\n",
    "\n",
    "There are lots of fun things we can do with equations. Check out this example from the Manim documentation:"
   ],
   "metadata": {
    "collapsed": false
   }
  },
  {
   "cell_type": "code",
   "execution_count": null,
   "outputs": [],
   "source": [
    "%%manim -qm MovingFrameBox\n",
    "class MovingFrameBox(Scene):\n",
    "    def construct(self):\n",
    "        text=MathTex(\"\\\\frac{d}{dx}f(x)g(x)=\", \"f(x)\\\\frac{d}{dx}g(x)\",\"+\", \"g(x)\\\\frac{d}{dx}f(x)\")\n",
    "\n",
    "        self.play(Write(text))\n",
    "\n",
    "        framebox1 = SurroundingRectangle(text[1], buff = .1)\n",
    "        framebox2 = SurroundingRectangle(text[3], buff = .1)\n",
    "\n",
    "        self.play(Create(framebox1))\n",
    "        self.wait()\n",
    "        self.play(ReplacementTransform(framebox1,framebox2))\n",
    "        self.wait()"
   ],
   "metadata": {
    "collapsed": false,
    "pycharm": {
     "name": "#%%\n"
    }
   }
  },
  {
   "cell_type": "markdown",
   "source": [
    "## Shapes, shapes, shapes!\n",
    "There are a lot of different shapes that you can easily create in Manim, such as `Circle`, `Square`, and `Triangle`.\n",
    "To see all of the shape options, see the documentation [here](https://azarzadavila-manim.readthedocs.io/en/latest/geometry.html).\n",
    "\n",
    "We're going to speed things up here. Let's create two shapes, a circle and a square, and see how we can animate them\n",
    "at the same time. The following scene will demonstrate some additional animation options: `set_fill`, `scale`, and `rotate`.\n",
    "Animation options can be seen [here](https://docs.manim.community/en/stable/reference_index/animations.html).\n",
    "At the end, we will see how you can remove an object from the scene, either with `self.remove()` or `self.play(Fadeout())`."
   ],
   "metadata": {
    "collapsed": false
   }
  },
  {
   "cell_type": "code",
   "execution_count": null,
   "outputs": [],
   "source": [
    "%%manim -qm Shapes\n",
    "class Shapes(Scene):\n",
    "    def construct(self):\n",
    "        square = Square(color=BLUE, fill_opacity=1)\n",
    "        circle = Circle(color=RED)\n",
    "\n",
    "        self.play(square.animate.shift(3*LEFT), Create(circle))\n",
    "        self.wait()\n",
    "        self.play(square.animate.set_fill(ORANGE), circle.animate.shift(3*RIGHT))\n",
    "        self.wait()\n",
    "        self.play(square.animate.scale(0.5), circle.animate.scale(1.5))\n",
    "        self.wait()\n",
    "        self.play(square.animate.scale(1.5), circle.animate.scale(0.5))\n",
    "        self.remove(circle)\n",
    "        self.play(square.animate.rotate(0.4))\n",
    "        self.wait()\n",
    "        self.play(FadeOut(square))"
   ],
   "metadata": {
    "collapsed": false,
    "pycharm": {
     "name": "#%%\n"
    }
   }
  },
  {
   "cell_type": "markdown",
   "source": [
    "## Animating Functions\n",
    "With Manim, you can animate any mathematical function you can think of! In the following example we will define a set of\n",
    "axes with the `Axes` object and draw a parabola. After that, we will make two dots with the `Dot` object and move them along\n",
    "the curve at different speeds."
   ],
   "metadata": {
    "collapsed": false
   }
  },
  {
   "cell_type": "code",
   "execution_count": null,
   "outputs": [],
   "source": [
    "%%manim -qm FunctionPlot\n",
    "class FunctionPlot(Scene):\n",
    "    def construct(self):\n",
    "        ax = Axes( x_range=[-5, 5, 1], y_range=[0, 5, 1], x_length=10, y_length=5,\n",
    "                   axis_config={\"include_numbers\": True})\n",
    "\n",
    "        def parabola(x):\n",
    "            return 0.2 * x**2\n",
    "\n",
    "        curve = ax.plot(parabola, color=RED)\n",
    "        self.play(Create(ax))\n",
    "        self.play(Write(curve))\n",
    "        self.wait()\n",
    "\n",
    "        dot_1 = Dot(color=BLUE).scale(2)\n",
    "        dot_2 = Dot(color=YELLOW).scale(2)\n",
    "        self.play(MoveAlongPath(dot_1, curve, run_time=2), MoveAlongPath(dot_2, curve, run_time=4))\n",
    "        self.wait()"
   ],
   "metadata": {
    "collapsed": false,
    "pycharm": {
     "name": "#%%\n"
    }
   }
  },
  {
   "cell_type": "markdown",
   "source": [
    "## A More Complex Example\n",
    "The following scene is one that I created for a presentation about exoplanet transit timing. I was learning Manim at the\n",
    "time, so it may not be the most efficient implementation, but it should give you an idea of what you can do with the program.\n",
    "This will take a lot longer to render than the previous scenes, so be patient!"
   ],
   "metadata": {
    "collapsed": false,
    "pycharm": {
     "name": "#%% md\n"
    }
   }
  },
  {
   "cell_type": "code",
   "execution_count": null,
   "outputs": [],
   "source": [
    "class OrbitingPlanet(Scene):\n",
    "    def make_circular_orbit(self):\n",
    "        self.star = Dot(color=YELLOW).scale(5)\n",
    "        self.planet = Dot(color=DARK_BROWN).scale(2)\n",
    "        self.circular_orbit = Circle(radius=2, color=GREY_A, stroke_width=1)\n",
    "        self.circular_orbit.move_to(self.star.get_center())\n",
    "        self.planet.move_to(self.circular_orbit.point_at_angle(0 * DEGREES))\n",
    "        self.dashed_circle = DashedVMobject(self.circular_orbit, num_dashes=40)\n",
    "        self.orbit = VGroup(self.star, self.dashed_circle, self.planet)\n",
    "    def make_sky_plane(self):\n",
    "        self.star_face = Circle(radius=2, color=DARK_BROWN).move_to(0.5 * DOWN + 3 * RIGHT)\n",
    "        self.star_face.set_fill(YELLOW, opacity=1.5)\n",
    "        start_point = self.star_face.point_at_angle(180 * DEGREES)\n",
    "        end_point = self.star_face.point_at_angle(0 * DEGREES)\n",
    "        self.transit_path = Line(start_point + 0.6 * LEFT, end_point + 0.5 * RIGHT, color=BLACK)\n",
    "        self.transit_line = Line(start_point, end_point, color=PURE_RED, stroke_width=5)\n",
    "        self.planet_face = Circle(color=BLACK, radius=0.2).move_to(start_point + 0.2 * LEFT)\n",
    "        self.planet_face.set_fill(color=BLACK, opacity=1.0)\n",
    "        self.sky_plane = VGroup(self.transit_path, self.star_face,\n",
    "                                self.transit_line, self.planet_face)\n",
    "        self.sky_plane_all = VGroup(self.sky_plane, self.planet_face)\n",
    "    def make_arcs(self):\n",
    "        self.arc0 = Arc(start_angle=0.0, angle=255*DEGREES, radius=2, color=BLACK,\n",
    "                arc_center=self.star.get_center())\n",
    "        self.arc1 = Arc(start_angle=255*DEGREES, angle=30*DEGREES, radius=2, color=BLACK,\n",
    "                arc_center=self.star.get_center())\n",
    "        self.arc2A = Arc(start_angle=285*DEGREES, angle=150*DEGREES, radius=2, color=BLACK,\n",
    "                arc_center=self.star.get_center())\n",
    "        self.arc2B = Arc(start_angle=285*DEGREES, angle=330*DEGREES, radius=2, color=BLACK,\n",
    "                arc_center=self.star.get_center())\n",
    "        self.arc3 = Arc(start_angle=75*DEGREES, angle=30*DEGREES, radius=2, color=BLACK,\n",
    "                arc_center=self.star.get_center())\n",
    "        self.arc4 = Arc(start_angle=105*DEGREES, angle=150*DEGREES, radius=2, color=BLACK,\n",
    "                arc_center=self.star.get_center())\n",
    "        self.arcs = VGroup(self.arc0, self.arc1, self.arc2A, self.arc2B, self.arc3, self.arc4)\n",
    "    def make_lightcurve(self):\n",
    "        def curve(t, min, max):\n",
    "            if t < min: return 0\n",
    "            elif min <= t < 0: return -t ** 3 - max ** 3\n",
    "            elif 0 <= t <= max: return t ** 3 - max ** 3\n",
    "            elif t > max: return 0\n",
    "\n",
    "        def noise(t, min, max):\n",
    "            return curve(t, min, max) + np.random.uniform(-2, 2)\n",
    "\n",
    "        self.axes = Axes(tips=False, x_range=[0, 5], y_range=[-10, 10],\n",
    "                    axis_config={\"stroke_color\":GREY_C,\"stroke_width\":2,\"include_ticks\": False,})\n",
    "        self.flux_line = Line(start=np.array([-5., 0., 0.]), end=np.array([5., 0., 0.]),\n",
    "                              color=PURE_RED)\n",
    "        self.curve1 = FunctionGraph(lambda t: curve(t, -2, 2), x_range=[-5, -2],\n",
    "                                    color=PURE_RED, stroke_width=5)\n",
    "        self.curve2 = FunctionGraph(lambda t: curve(t, -2, 2), x_range=[-2, 2.1],\n",
    "                                    color=PURE_RED, stroke_width=5)\n",
    "        self.curve3 = FunctionGraph(lambda t: curve(t, -2, 2), x_range=[2, 5],\n",
    "                                    color=PURE_RED, stroke_width=5)\n",
    "        self.noise_curve = FunctionGraph(lambda t: noise(t, -2, 2), x_range=[-5, 5],\n",
    "                                    color=BLUE, stroke_width=2)\n",
    "        self.lightcurve = VGroup(self.curve1, self.curve2, self.curve3,\n",
    "                                 self.noise_curve, self.axes, self.flux_line)\n",
    "        self.t0_line = DashedLine(start=np.array([3, -2.5, 0.]), end=np.array([3, 1, 0.]),\n",
    "                            dash_length=0.1, color=PURE_RED)\n",
    "        self.lightcurve.scale(0.25)\n",
    "        self.lightcurve.stretch(0.75, dim=1)\n",
    "        self.lightcurve.stretch(2, dim=0)\n",
    "        self.lightcurve.move_to([3, -1, 0])\n",
    "        # self.labels = self.axes.get_axis_labels(x_label=Tex(\"Time\"), y_label=Tex(\"Flux\"))\n",
    "    def construct(self):\n",
    "        self.make_circular_orbit()\n",
    "        self.make_lightcurve()\n",
    "        self.make_sky_plane()\n",
    "        self.make_arcs()\n",
    "\n",
    "        title_transit = Tex(\"The Exoplanet Transit\").to_corner(LEFT+UP)\n",
    "        title_topdown = Tex(\"Top-Down View\").move_to(1.75*UP + 3*LEFT)\n",
    "        title_obs = Tex(\"Observer View\").move_to(1.75 * UP + 3 * RIGHT)\n",
    "\n",
    "        self.circular_orbit.shift(1.1 * DOWN + 3 * LEFT)\n",
    "        self.orbit.shift(1.1 * DOWN + 3 * LEFT)\n",
    "        self.arcs.shift(1.1 * DOWN + 3 * LEFT)\n",
    "\n",
    "        sky_plane = VGroup(self.transit_path, self.star_face, self.transit_line, self.planet_face)\n",
    "        sky_plane.shift(0.6*DOWN)\n",
    "\n",
    "        self.add(title_topdown, self.orbit)\n",
    "        self.wait()\n",
    "        self.play(Create(self.star_face), Write(title_obs))\n",
    "        self.wait()\n",
    "\n",
    "        rt = 2\n",
    "        self.play(MoveAlongPath(self.planet, self.arc0, run_time=rt, rate_func=linear))\n",
    "        self.wait(0.1)\n",
    "\n",
    "        transit_square = Square(side_length=0.8, color=PURE_RED) \\\n",
    "                                    .move_to(self.circular_orbit.point_at_angle(270 * DEGREES))\n",
    "        self.add(transit_square, self.transit_line, self.planet_face)\n",
    "        self.wait(0.1)\n",
    "\n",
    "        self.play(MoveAlongPath(self.planet_face, self.transit_path, run_time=rt, rate_func=linear),\n",
    "                  MoveAlongPath(self.planet, self.arc1, run_time=rt, rate_func=linear))\n",
    "\n",
    "        self.play(MoveAlongPath(self.planet, self.arc2B, run_time=rt, rate_func=linear))\n",
    "        self.play(MoveAlongPath(self.planet_face, self.transit_path, run_time=rt, rate_func=linear),\n",
    "                  MoveAlongPath(self.planet, self.arc1, run_time=rt, rate_func=linear))\n",
    "        self.wait()\n",
    "\n",
    "        # move star to the left\n",
    "        self.remove(self.circular_orbit)\n",
    "        self.play(\n",
    "                  FadeOut(self.orbit), sky_plane.animate.move_to(np.array([-3.5,-0.4,0])),\n",
    "                  FadeOut(title_topdown), FadeOut(title_obs), FadeOut(transit_square))\n",
    "\n",
    "        # show lightcurve creation\n",
    "        xlabel = Tex(\"Time\").move_to(np.array([3, -1, 0])).scale(0.75)\n",
    "        ylabel = Tex(\"Flux\").move_to(np.array([-0.5, 0.5, 0])).scale(0.75)\n",
    "        self.add(self.axes)\n",
    "        self.play(Write(xlabel), Write(ylabel), self.sky_plane.animate.scale(0.8))\n",
    "        self.wait(0.5)\n",
    "\n",
    "        self.play(Create(self.curve1, rate_func=linear, run_time=1),\n",
    "                  xlabel.animate.shift(2.0 * DOWN))\n",
    "        self.play(Create(self.curve2, rate_func=linear, run_time=1.5),\n",
    "                  MoveAlongPath(self.planet_face, self.transit_path,\n",
    "                                run_time=1.5, rate_func=linear), Write(title_transit))\n",
    "        self.play(Create(self.curve3, rate_func=linear, run_time=1))\n",
    "\n",
    "        self.wait()\n",
    "        self.play(Create(self.noise_curve))\n",
    "        self.remove(self.curve1, self.curve2, self.curve3)\n",
    "        self.wait(2)\n",
    "\n",
    "        title_t0 = Tex(\"Transit Timing\").to_corner(LEFT+UP)\n",
    "        self.play(Create(self.t0_line))\n",
    "        self.wait(2)\n",
    "        new_lightcurve = VGroup(self.noise_curve, self.axes, self.t0_line)\n",
    "        self.play(FadeOut(self.sky_plane), FadeOut(xlabel), FadeOut(ylabel),\n",
    "                  new_lightcurve.animate.shift(3 * LEFT), Transform(title_transit, title_t0))\n",
    "        self.wait()\n"
   ],
   "metadata": {
    "collapsed": false,
    "pycharm": {
     "name": "#%%\n"
    }
   }
  },
  {
   "cell_type": "markdown",
   "source": [
    "Now you have learned the basics of Manim. There are infinite possibilities! For some ideas, check out the\n",
    "[Manim example gallery](https://docs.manim.community/en/stable/examples.html)."
   ],
   "metadata": {
    "collapsed": false
   }
  }
 ],
 "metadata": {
  "kernelspec": {
   "display_name": "Python 3 (ipykernel)",
   "language": "python",
   "name": "python3"
  },
  "language_info": {
   "codemirror_mode": {
    "name": "ipython",
    "version": 3
   },
   "file_extension": ".py",
   "mimetype": "text/x-python",
   "name": "python",
   "nbconvert_exporter": "python",
   "pygments_lexer": "ipython3",
   "version": "3.8.18"
  }
 },
 "nbformat": 4,
 "nbformat_minor": 5
}