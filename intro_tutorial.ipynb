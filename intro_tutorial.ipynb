{
 "cells": [
  {
   "cell_type": "markdown",
   "source": [
    "# Introduction to Manim"
   ],
   "metadata": {
    "collapsed": false
   }
  },
  {
   "cell_type": "markdown",
   "source": [
    "At its core, Manim is a Python library that implements the capabilities of [FFmpeg](https://ffmpeg.org/) and\n",
    "[OpenGL](https://www.opengl.org/). Manim can be used to make incredible animations, as evident in my favourite 3Blue1Brown\n",
    "video on Fourier Transforms ([link](https://www.youtube.com/watch?v=spUNpyF58BY&t=627s)]. The library is large and complex,\n",
    "so we will only cover the basics, here."
   ],
   "metadata": {
    "collapsed": false
   }
  },
  {
   "cell_type": "markdown",
   "source": [
    "First, we need to import the capabilities of Manim. We will also set the maximum display width for videos to improve\n",
    "their appearance in this notebook."
   ],
   "metadata": {
    "collapsed": false
   }
  },
  {
   "cell_type": "code",
   "execution_count": null,
   "outputs": [],
   "source": [
    "from manim import *\n",
    "\n",
    "config.media_width = \"75%\""
   ],
   "metadata": {
    "collapsed": false,
    "pycharm": {
     "name": "#%%\n"
    }
   }
  },
  {
   "cell_type": "markdown",
   "source": [
    "You should now see a printed message with the installed version of the Manim library."
   ],
   "metadata": {
    "collapsed": false
   }
  },
  {
   "cell_type": "markdown",
   "source": [
    "## The Scene class\n",
    "The `Scene` class is the basis for all Manim animations. To create an animation, you must define a Python class that\n",
    "inherits `Scene` and implement a method called `construct`. The `construct` method is where you tell Manim what to do,\n",
    "but you will see that we can also write other methods that can be called within `construct`."
   ],
   "metadata": {
    "collapsed": false
   }
  },
  {
   "cell_type": "markdown",
   "source": [
    "Let's start with a simple animation of some text. The first step is to define a `Text` object with the desired string.\n",
    "The `self.play()` function animates the text by calling the `Write` animation, and `self.wait()` pauses it for a moment."
   ],
   "metadata": {
    "collapsed": false
   }
  },
  {
   "cell_type": "code",
   "execution_count": null,
   "outputs": [],
   "source": [
    "%%manim -qm HelloWorld\n",
    "class HelloWorld(Scene):\n",
    "    def construct(self):\n",
    "        text = Text(\"Hello, astronomy people!\")\n",
    "        self.play(Write(text))\n",
    "        self.wait()"
   ],
   "metadata": {
    "collapsed": false,
    "pycharm": {
     "name": "#%%\n"
    }
   }
  },
  {
   "cell_type": "markdown",
   "source": [
    "To create the video we use the `-pqm` command, where:\n",
    "\n",
    "-`p` is the preview flag, telling Manim that we want to immediately view the result and\n",
    "-`qm` sets the quality to medium (others being low, high and 4k),"
   ],
   "metadata": {
    "collapsed": false
   }
  },
  {
   "cell_type": "markdown",
   "source": [
    "We can do a lot of different things to this `Text` object. We can move it around, make it go away, or even transform it\n",
    "into a different text string! This time, we will define a `MathTex` equation and learn how to move it around the screen."
   ],
   "metadata": {
    "collapsed": false
   }
  },
  {
   "cell_type": "code",
   "execution_count": null,
   "outputs": [],
   "source": [
    "%%manim -qm EquationMagic\n",
    "class EquationMagic(Scene):\n",
    "    def construct(self):\n",
    "        text = Text(\"Hello, astronomy people!\")\n",
    "        self.play(Write(text))\n",
    "        self.wait()\n",
    "\n",
    "        equation = MathTex(r'H^2=H_0^2\\left(\\frac{\\Omega_m}{a^3}+\\frac{\\Omega_r}{a^4}'\n",
    "                           r'+\\frac{\\Omega_k}{a^2}+\\Omega_{\\Lambda}\\right)')\n",
    "\n",
    "        self.play(ReplacementTransform(text, equation))\n",
    "        self.wait()\n",
    "\n",
    "        self.play(equation.animate.shift(LEFT))\n",
    "        self.wait()\n",
    "        self.play(equation.animate.shift(RIGHT))\n",
    "        self.wait()\n",
    "        self.play(equation.animate.shift(UP))\n",
    "        self.wait()\n",
    "        self.play(equation.animate.shift(DOWN))\n",
    "        self.wait()\n",
    "\n",
    "        self.play(equation.animate.shift(0.25*UP))\n",
    "        self.wait()\n",
    "        self.play(equation.animate.shift(2*DOWN))\n",
    "        self.wait()\n",
    "        self.play(equation.animate.shift(3*UP))\n",
    "        self.wait()\n",
    "        self.play(equation.animate.shift(1*DOWN))\n",
    "        self.wait()"
   ],
   "metadata": {
    "collapsed": false,
    "pycharm": {
     "name": "#%%\n"
    }
   }
  },
  {
   "cell_type": "markdown",
   "source": [
    "Notice that we told the equation to move around with the `LEFT`, `RIGHT`, `UP`, and `DOWN` directions. For the last part\n",
    "of the animation we moved the equation in incremental steps. The defualt Manim scene is a 8 x 14 grid.\n",
    "\n",
    "There are lots of fun things we can do with equations. Check out this example from the Manim documentation:"
   ],
   "metadata": {
    "collapsed": false
   }
  },
  {
   "cell_type": "code",
   "execution_count": null,
   "outputs": [],
   "source": [
    "%%manim -qm MovingFrameBox\n",
    "class MovingFrameBox(Scene):\n",
    "    def construct(self):\n",
    "        text=MathTex(\"\\\\frac{d}{dx}f(x)g(x)=\", \"f(x)\\\\frac{d}{dx}g(x)\",\"+\", \"g(x)\\\\frac{d}{dx}f(x)\")\n",
    "\n",
    "        self.play(Write(text))\n",
    "\n",
    "        framebox1 = SurroundingRectangle(text[1], buff = .1)\n",
    "        framebox2 = SurroundingRectangle(text[3], buff = .1)\n",
    "\n",
    "        self.play(Create(framebox1))\n",
    "        self.wait()\n",
    "        self.play(ReplacementTransform(framebox1,framebox2))\n",
    "        self.wait()"
   ],
   "metadata": {
    "collapsed": false,
    "pycharm": {
     "name": "#%%\n"
    }
   }
  },
  {
   "cell_type": "markdown",
   "source": [
    "## Shapes, shapes, shapes!\n",
    "There are a lot of different shapes that you can easily create in Manim, such as `Circle`, `Square`, and `Triangle`.\n",
    "To see all of the shape options, see the documentation [here](https://azarzadavila-manim.readthedocs.io/en/latest/geometry.html).\n",
    "\n",
    "We're going to speed things up here. Let's create two shapes, a circle and a square, and see how we can animate them\n",
    "at the same time. The following scene will demonstrate some additional animation options: `set_fill`, `scale`, and `rotate`.\n",
    "Animation options can be seen [here](https://docs.manim.community/en/stable/reference_index/animations.html).\n",
    "At the end, we will see how you can remove an object from the scene, either with `self.remove()` or `self.play(Fadeout())`."
   ],
   "metadata": {
    "collapsed": false
   }
  },
  {
   "cell_type": "code",
   "execution_count": null,
   "outputs": [],
   "source": [
    "%%manim -qm Shapes\n",
    "class Shapes(Scene):\n",
    "    def construct(self):\n",
    "        square = Square(color=BLUE, fill_opacity=1)\n",
    "        circle = Circle(color=RED)\n",
    "\n",
    "        self.play(square.animate.shift(3*LEFT), Create(circle))\n",
    "        self.wait()\n",
    "        self.play(square.animate.set_fill(ORANGE), circle.animate.shift(3*RIGHT))\n",
    "        self.wait()\n",
    "        self.play(square.animate.scale(0.5), circle.animate.scale(1.5))\n",
    "        self.wait()\n",
    "        self.play(square.animate.scale(1.5), circle.animate.scale(0.5))\n",
    "        self.remove(circle)\n",
    "        self.play(square.animate.rotate(0.4))\n",
    "        self.wait()\n",
    "        self.play(FadeOut(square))"
   ],
   "metadata": {
    "collapsed": false,
    "pycharm": {
     "name": "#%%\n"
    }
   }
  },
  {
   "cell_type": "markdown",
   "source": [
    "## Animating Functions\n",
    "With Manim, you can animate any mathematical function you can think of! In the following example we will define a set of\n",
    "axes with the `Axes` object and draw a parabola. After that, we will make two dots with the `Dot` object and move them along\n",
    "the curve at different speeds."
   ],
   "metadata": {
    "collapsed": false
   }
  },
  {
   "cell_type": "code",
   "execution_count": null,
   "outputs": [],
   "source": [
    "%%manim -qm FunctionPlot\n",
    "class FunctionPlot(Scene):\n",
    "    def construct(self):\n",
    "        ax = Axes( x_range=[-5, 5, 1], y_range=[0, 5, 1], x_length=10, y_length=5,\n",
    "                   axis_config={\"include_numbers\": True})\n",
    "\n",
    "        def parabola(x):\n",
    "            return 0.2 * x**2\n",
    "\n",
    "        curve = ax.plot(parabola, color=RED)\n",
    "        self.play(Create(ax))\n",
    "        self.play(Write(curve))\n",
    "        self.wait()\n",
    "\n",
    "        dot_1 = Dot(color=BLUE).scale(2)\n",
    "        dot_2 = Dot(color=YELLOW).scale(2)\n",
    "        self.play(MoveAlongPath(dot_1, curve, run_time=2), MoveAlongPath(dot_2, curve, run_time=4))\n",
    "        self.wait()"
   ],
   "metadata": {
    "collapsed": false,
    "pycharm": {
     "name": "#%%\n"
    }
   }
  },
  {
   "cell_type": "markdown",
   "source": [],
   "metadata": {
    "collapsed": false,
    "pycharm": {
     "name": "#%% md\n"
    }
   }
  }
 ],
 "metadata": {
  "kernelspec": {
   "display_name": "Python 3 (ipykernel)",
   "language": "python",
   "name": "python3"
  },
  "language_info": {
   "codemirror_mode": {
    "name": "ipython",
    "version": 3
   },
   "file_extension": ".py",
   "mimetype": "text/x-python",
   "name": "python",
   "nbconvert_exporter": "python",
   "pygments_lexer": "ipython3",
   "version": "3.8.18"
  }
 },
 "nbformat": 4,
 "nbformat_minor": 5
}