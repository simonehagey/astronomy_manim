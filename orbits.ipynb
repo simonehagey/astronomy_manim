{
 "cells": [
  {
   "cell_type": "markdown",
   "source": [
    "# Orbit"
   ],
   "metadata": {
    "collapsed": false
   }
  },
  {
   "cell_type": "code",
   "execution_count": null,
   "outputs": [],
   "source": [
    "from manim import *\n",
    "import numpy as np\n",
    "\n",
    "config.media_width = \"75%\""
   ],
   "metadata": {
    "collapsed": false,
    "pycharm": {
     "name": "#%%\n"
    }
   }
  },
  {
   "cell_type": "markdown",
   "source": [
    "## Circular Orbit Example\n",
    "The following example shows you how to animate a circular orbit without using the `MoveAlongPath` animation.\n"
   ],
   "metadata": {
    "collapsed": false
   }
  },
  {
   "cell_type": "code",
   "execution_count": null,
   "outputs": [],
   "source": [
    "%%manim -qm CircularOrbit\n",
    "class CircularOrbit(Scene):\n",
    "\n",
    "    def wrap(self,angle):\n",
    "        if angle >= 2 * np.pi:\n",
    "            return angle - 2 * np.pi\n",
    "        elif angle <= 0:\n",
    "            return angle + 2 * np.pi\n",
    "        else:\n",
    "            return angle\n",
    "\n",
    "    def make_circular_orbit(self):\n",
    "        # make dots for the star and planet\n",
    "        self.star = Dot(color=YELLOW).scale(5)\n",
    "        self.planet = Dot(color=DARK_BROWN).scale(2)\n",
    "        self.period = 2                 # orbital period\n",
    "        self.radius = 2                 # radius\n",
    "        self.v = 2 * PI / self.period   # angular velocity\n",
    "\n",
    "        # make a circle for the orbit\n",
    "        self.circle = Circle(radius=self.radius, color=GREY_A, stroke_width=1)\n",
    "\n",
    "        # shift the circular orbit to be centered on the star\n",
    "        self.circle.move_to(self.star.get_center())\n",
    "\n",
    "        # shift the planet to be on the orbit at an angle of 0 degrees\n",
    "        self.planet.move_to(self.circle.point_at_angle(0 * DEGREES))\n",
    "\n",
    "        # group all of the objects into a single attribute\n",
    "        self.circular_orbit = VGroup(self.star, self.circle, self.planet)\n",
    "\n",
    "    def construct(self):\n",
    "        self.make_circular_orbit()\n",
    "        self.f_0 = np.pi                # initial true anomaly\n",
    "\n",
    "        def update_planet_position(mobject, dt):\n",
    "            theta = self.f_0 + self.v * dt      # update angle\n",
    "            theta = self.wrap(theta)\n",
    "            x = self.radius * np.cos(theta)\n",
    "            y = self.radius * np.sin(theta)\n",
    "\n",
    "            mobject.move_to(np.array([-x, -y, 0]))\n",
    "            self.f_0 = theta\n",
    "\n",
    "        self.play(Create(self.circular_orbit))\n",
    "        self.wait()\n",
    "        self.planet.add_updater(update_planet_position)\n",
    "        self.wait(5*self.period)\n",
    "        self.planet.remove_updater(update_planet_position)\n",
    "        self.play(FadeOut(self.circular_orbit))"
   ],
   "metadata": {
    "collapsed": false,
    "pycharm": {
     "name": "#%%\n"
    }
   }
  },
  {
   "cell_type": "markdown",
   "source": [
    "## Challenge Time!\n",
    "Now I want you to try to animate an *elliptical* orbit. This may not be as simple as you think! Recall that the planet\n",
    " will not travel at the same speed throughout the orbit. You may need to look at the Manim documentation and/or search\n",
    " for equations related to Keplerian orbits. The steps are:\n",
    "\n",
    "1. Define the ellipse with a semimajor axis of 2 and an eccentricity of 0.5.\n",
    "2. Create dots for the planet and star (remember that the star will be at the focus of the ellipse!)\n",
    "3. Define an updater function for the planet\n",
    "4. Animate the ellipse for 5 orbital periods\n",
    "5. Extra challenge: rotate the orbit by PI/4 and animate 5 more orbits."
   ],
   "metadata": {
    "collapsed": false,
    "pycharm": {
     "name": "#%% md\n"
    }
   }
  },
  {
   "cell_type": "code",
   "execution_count": null,
   "outputs": [],
   "source": [
    "%%manim -qm EllipticalOrbit\n",
    "class EllipticalOrbit(Scene):\n",
    "    def wrap(self,angle):\n",
    "        if angle >= 2 * np.pi:\n",
    "            return angle - 2 * np.pi\n",
    "        elif angle <= 0:\n",
    "            return angle + 2 * np.pi\n",
    "        else:\n",
    "            return angle\n",
    "\n",
    "    def make_ellipse(self):\n",
    "        # Define ellipse parameters\n",
    "        self.ecc = 0.5                        # eccentricity\n",
    "        self.a = 2                            # semimajor axis\n",
    "        self.b = self.a * np.sqrt(1 - self.ecc ** 2)  # Semi-minor axis\n",
    "        self.period = np.sqrt(self.a ** 3)            # orbital period\n",
    "        self.v = 2 * PI / self.period                 # angular velocity\n",
    "\n",
    "        self.star = Dot(color=YELLOW).scale(5)\n",
    "        self.planet = Dot(color=DARK_BROWN).scale(2)\n",
    "        self.ellipse = Ellipse(width=2 * self.a, height=2 * self.b, color=GREY_A, stroke_width=1)\n",
    "        self.ellipse.move_to(self.star.get_center() + (self.a * self.ecc) * RIGHT)\n",
    "        self.planet.move_to(self.ellipse.point_at_angle(0 * DEGREES))\n",
    "        self.elliptical_orbit = VGroup(self.star, self.ellipse, self.planet)\n",
    "\n",
    "    def construct(self):\n",
    "        self.make_ellipse()\n",
    "        self.f_0 = np.pi           # initial true anomaly\n",
    "        self.rotate_angle = 0\n",
    "\n",
    "        def update_planet_ellipse(mobject, dt):\n",
    "            theta = self.f_0 + self.v * dt\n",
    "            theta = self.wrap(theta)\n",
    "            r = (self.a * (1 - self.ecc**2)) / (1 + self.ecc * np.cos(theta))\n",
    "            x = r * np.cos(theta)\n",
    "            y = r * np.sin(theta)\n",
    "\n",
    "            mobject.move_to(np.array([-x, -y, 0]) + self.star.get_center() + self.a*LEFT)\n",
    "            mobject.rotate(angle=self.rotate_angle, about_point=self.star.get_center())\n",
    "            self.f_0 = theta\n",
    "\n",
    "        self.add(self.elliptical_orbit.shift(2.5*LEFT))\n",
    "        self.ellipse.shift(2.5*LEFT)\n",
    "\n",
    "        self.planet.add_updater(update_planet_ellipse)\n",
    "        self.wait(5*self.period)\n",
    "        self.planet.remove_updater(update_planet_ellipse)\n",
    "\n",
    "        self.rotate_angle = np.pi/4\n",
    "        self.play(Rotate(self.elliptical_orbit,angle=self.rotate_angle, about_point=self.star.get_center()))\n",
    "        self.planet.add_updater(update_planet_ellipse)\n",
    "        self.wait(2*self.period)\n",
    "        self.planet.remove_updater(update_planet_ellipse)\n",
    "        self.wait()\n"
   ],
   "metadata": {
    "collapsed": false,
    "pycharm": {
     "name": "#%%\n"
    }
   }
  }
 ],
 "metadata": {
  "kernelspec": {
   "display_name": "Python 3 (ipykernel)",
   "language": "python",
   "name": "python3"
  },
  "language_info": {
   "codemirror_mode": {
    "name": "ipython",
    "version": 3
   },
   "file_extension": ".py",
   "mimetype": "text/x-python",
   "name": "python",
   "nbconvert_exporter": "python",
   "pygments_lexer": "ipython3",
   "version": "3.8.18"
  }
 },
 "nbformat": 4,
 "nbformat_minor": 5
}