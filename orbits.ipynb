{
 "cells": [
  {
   "cell_type": "markdown",
   "source": [
    "# Orbit"
   ],
   "metadata": {
    "collapsed": false
   }
  },
  {
   "cell_type": "code",
   "execution_count": null,
   "outputs": [],
   "source": [
    "from manim import *\n",
    "# conda activate my-manim-environment\n",
    "import numpy as np"
   ],
   "metadata": {
    "collapsed": false,
    "pycharm": {
     "name": "#%%\n"
    }
   }
  },
  {
   "cell_type": "markdown",
   "source": [
    "### Orbit"
   ],
   "metadata": {
    "collapsed": false
   }
  },
  {
   "cell_type": "code",
   "execution_count": null,
   "outputs": [],
   "source": [],
   "metadata": {
    "collapsed": false,
    "pycharm": {
     "name": "#%%\n"
    }
   }
  },
  {
   "cell_type": "code",
   "execution_count": null,
   "outputs": [],
   "source": [
    "class OrbitingPlanet(Scene):\n",
    "    def slide_rotated_ellipse(self):\n",
    "        self.make_elliptical_orbit()\n",
    "        self.w_offset = np.pi\n",
    "        self.rotate_angle = 0\n",
    "\n",
    "        eq_linear_tra = MathTex(r't_\\text{I}', '=', 't_0', '+', 'P', 'E') \\\n",
    "            .move_to(1.5 * RIGHT + 2*UP)\n",
    "        eq_eccentric1 = MathTex(r't_\\text{II} \\simeq t_\\text{I} + \\frac{P}{2} + ',\n",
    "                                r'\\frac{2P}{\\pi}','e').move_to(2.1 * RIGHT + 1*UP)\n",
    "        eq_eccentric2 = MathTex(r't_\\text{II} \\simeq t_\\text{I} + \\frac{P}{2} + '\n",
    "                                r'\\frac{2P}{\\pi}','e\\cos{\\omega}').move_to(2.7 * RIGHT + 1*UP)\n",
    "        v1 = MathTex(r'\\small{e', r'\\rightarrow \\text{orbital eccentricity}}')\\\n",
    "            .move_to(1*DOWN+3*RIGHT)\n",
    "        v2 = MathTex(r'\\small{\\omega', r'\\rightarrow \\text{argument of periapsis}}')\\\n",
    "            .move_to(2*DOWN+3.5*RIGHT)\n",
    "        vbox1 = SurroundingRectangle(eq_eccentric1[2], buff=.1)\n",
    "        vbox2 = SurroundingRectangle(eq_eccentric2[1], buff=.1)\n",
    "\n",
    "        def update_planet_rotated(mobject, dt):\n",
    "            theta = self.w_offset + self.v * dt\n",
    "            theta = self.wrap(theta)\n",
    "            r = (self.semimajor * (1 - self.e**2)) / (1 + self.e * np.cos(theta))\n",
    "            x = r * np.cos(theta)\n",
    "            y = r * np.sin(theta)\n",
    "\n",
    "            mobject.move_to(np.array([-x, -y, 0])\n",
    "                            + self.star_elliptical.get_center() + self.semimajor*LEFT)\n",
    "            mobject.rotate(angle=self.rotate_angle,about_point=self.star_elliptical.get_center())\n",
    "            self.w_offset = theta\n",
    "\n",
    "        title_ellipse = Tex(\"Eccentric Orbit\").to_corner(UP + LEFT)\n",
    "        self.add(title_ellipse, self.orbit2.shift(2.5*LEFT), eq_linear_tra)\n",
    "        self.elliptical_orbit.shift(2.5*LEFT)\n",
    "\n",
    "        transit_square = Square(side_length=0.7, color=PURE_RED) \\\n",
    "                                    .move_to(self.star_elliptical.get_center() + 1.5*DOWN)\n",
    "        eclipse_square = Square(side_length=0.7, color=PURE_RED) \\\n",
    "                                    .move_to(self.star_elliptical.get_center() + 1.5*UP)\n",
    "        text_transit = Tex(r'\\tiny{Transit}')\\\n",
    "            .move_to(transit_square.get_center() + 1*RIGHT + 0.25*DOWN)\n",
    "        text_eclipse = Tex(r'\\tiny{Eclipse}')\\\n",
    "            .move_to(eclipse_square.get_center() + 1*RIGHT + 0.25*UP)\n",
    "        all = VGroup(transit_square, eclipse_square, text_transit, text_eclipse)\n",
    "\n",
    "        self.planet_elliptical.add_updater(update_planet_rotated)\n",
    "        self.wait(1.5*self.period)\n",
    "        self.add(text_transit, transit_square)\n",
    "        self.wait(1.5 * self.period)\n",
    "        self.add(text_eclipse, eclipse_square)\n",
    "        self.add(eq_eccentric1)\n",
    "        self.play(Create(vbox1), Write(v1))\n",
    "        self.wait(2 * self.period)\n",
    "        self.planet_elliptical.remove_updater(update_planet_rotated)\n",
    "\n",
    "        self.rotate_angle = np.pi/4\n",
    "        self.play(Rotate(self.orbit2,angle=self.rotate_angle,\n",
    "                         about_point=self.star_elliptical.get_center()),\n",
    "                  Transform(eq_eccentric1,eq_eccentric2),\n",
    "                  transit_square.animate.shift(0.75*DOWN), eclipse_square.animate.shift(0.4*DOWN),\n",
    "                  FadeOut(text_eclipse), FadeOut(text_transit),\n",
    "                  ReplacementTransform(vbox1, vbox2))\n",
    "        self.add(v2)\n",
    "        self.planet_elliptical.add_updater(update_planet_rotated)\n",
    "        self.wait(2*self.period)\n",
    "        self.planet_elliptical.remove_updater(update_planet_rotated)\n",
    "        self.wait()\n",
    "\n",
    "    def wrap(self,angle):\n",
    "        if angle >= 2 * np.pi: \n",
    "            return angle - 2 * np.pi\n",
    "        elif angle <= 0:\n",
    "            return angle + 2 * np.pi\n",
    "        else:\n",
    "            return angle\n",
    "    def make_circular_orbit(self):\n",
    "        # make dots for the star and planet\n",
    "        self.star = Dot(color=YELLOW).scale(5)\n",
    "        self.planet = Dot(color=DARK_BROWN).scale(2)\n",
    "        # make a circle for the orbit\n",
    "        self.circular_orbit = Circle(radius=2, color=GREY_A, stroke_width=1)\n",
    "        # shift the circular orbit to be centered on the star\n",
    "        self.circular_orbit.move_to(self.star.get_center())\n",
    "        # shift the planet to be on the orbit at an angle of 0 degrees\n",
    "        self.planet.move_to(self.circular_orbit.point_at_angle(0 * DEGREES))\n",
    "        # Todo: why dashed circle?\n",
    "        self.dashed_circle = DashedVMobject(self.circular_orbit, num_dashes=40)\n",
    "        # group all of the objects into a single attribute \n",
    "        self.orbit_C = VGroup(self.star, self.dashed_circle, self.planet)\n",
    "        \n",
    "    def make_elliptical_orbit(self):\n",
    "        # Define ellipse parameters\n",
    "        self.ecc = 0.5          # eccentricity\n",
    "        self.a = 2      # semimajor axis\n",
    "        self.b = self.semimajor * np.sqrt(1 - self.ecc ** 2)  # Semi-minor axis\n",
    "        # calculate the orbital period and angular velocity\n",
    "        self.period = np.sqrt(self.a ** 3)  # Period\n",
    "        self.v = 2 * PI / self.period           # angular velocity\n",
    "\n",
    "        self.star_E = Dot(color=YELLOW).scale(5)\n",
    "        self.planet_E = Dot(color=DARK_BROWN).scale(2)\n",
    "        self.elliptical_orbit = Ellipse(width=2 * self.a, height=2 * self.b, color=GREY_A, stroke_width=1)\n",
    "        self.elliptical_orbit.move_to(self.star_elliptical.get_center() + (self.semimajor * self.e) * LEFT)\n",
    "        self.planet_E.move_to(self.elliptical_orbit.point_at_angle(0 * DEGREES))\n",
    "        self.dashed_ellipse = DashedVMobject(self.elliptical_orbit, num_dashes=40)\n",
    "        self.orbit_E = VGroup(self.star_E, self.dashed_ellipse, self.planet_E)\n",
    "        \n",
    "        \n",
    "    "
   ],
   "metadata": {
    "collapsed": false,
    "pycharm": {
     "name": "#%%\n"
    }
   }
  }
 ],
 "metadata": {
  "kernelspec": {
   "display_name": "Python 3 (ipykernel)",
   "language": "python",
   "name": "python3"
  },
  "language_info": {
   "codemirror_mode": {
    "name": "ipython",
    "version": 3
   },
   "file_extension": ".py",
   "mimetype": "text/x-python",
   "name": "python",
   "nbconvert_exporter": "python",
   "pygments_lexer": "ipython3",
   "version": "3.8.18"
  }
 },
 "nbformat": 4,
 "nbformat_minor": 5
}